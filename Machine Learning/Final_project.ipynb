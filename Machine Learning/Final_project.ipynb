{
 "cells": [
  {
   "cell_type": "markdown",
   "metadata": {
    "slideshow": {
     "slide_type": "slide"
    }
   },
   "source": [
    " # Final Project\n",
    " ## Loan Default Prediction\n",
    " \n",
    " ## Name: Fangzhou Song\n"
   ]
  },
  {
   "cell_type": "markdown",
   "metadata": {
    "slideshow": {
     "slide_type": "slide"
    }
   },
   "source": [
    "### Problem statement\n",
    "\n",
    "Problem: How to predict a loan application might be default in the end? \n",
    "\n"
   ]
  },
  {
   "cell_type": "markdown",
   "metadata": {
    "slideshow": {
     "slide_type": "subslide"
    }
   },
   "source": [
    "### Problem statement\n",
    "\n",
    "**Goal**: Given relevant information of the application, predict whether this loan will be default or not \n",
    "\n",
    "**Input**: All relevant factors  \n",
    "\n",
    "**Output**: Probability of the loan being default \n",
    "\n",
    "**Type**: Supervised learning\n",
    "\n"
   ]
  },
  {
   "cell_type": "markdown",
   "metadata": {
    "slideshow": {
     "slide_type": "subslide"
    }
   },
   "source": [
    "### Problem statement\n",
    "**Specific model**:\n",
    "1. Logistic Regression  \n",
    "2. Neural Network\n",
    "\n",
    "**Measurable comparison**\n",
    "1. Accuracy\n",
    "2. Area Under Curve(AUC)\n",
    "\n"
   ]
  },
  {
   "cell_type": "markdown",
   "metadata": {
    "slideshow": {
     "slide_type": "slide"
    }
   },
   "source": [
    "### Data description\n",
    "\n",
    "The dataset is downloaded from https://www.lendingclub.com/info/download-data.action (2012 - 2017)\n",
    "\n",
    "\n",
    "LendingClub is a US peer-to-peer lending company, headquartered in San Francisco, California, which is the world's largest peer-to-peer lending platform\n",
    "\n",
    "\n",
    "The dataset contain complete loan data for all loans issued through the time period stated, including the current loan status (Current, Late, Fully Paid, etc.) and latest payment information.\n",
    "\n",
    "\n"
   ]
  },
  {
   "cell_type": "markdown",
   "metadata": {
    "slideshow": {
     "slide_type": "subslide"
    }
   },
   "source": [
    "### Data description\n",
    "#### Partial dataset selection\n",
    "\n",
    "For my project, I select 2016Q2 as my dataset as following reason:\n",
    "1. The whole loan data from 2012-2017 is so big that the speed is quite slow when we applied machine learning algorthm\n",
    "\n",
    "\n",
    "2. Even for 2016Q2, the number of rows is aleady very large\n",
    "\n",
    "\n",
    "3. More data does not always mean better performance of the model\n",
    "    * Getting more data will help much only if a learning algorithm is suffering high variance rather than high bias\n",
    "    * Relatively small dataset is a good choice for initial exploration\n"
   ]
  },
  {
   "cell_type": "code",
   "execution_count": 14,
   "metadata": {
    "slideshow": {
     "slide_type": "skip"
    }
   },
   "outputs": [],
   "source": [
    "import random\n",
    "import pandas as pd\n",
    "import numpy as np\n",
    "import scipy.optimize as op\n",
    "from sklearn.metrics import roc_auc_score\n",
    "import matplotlib.pyplot as plt\n",
    "import seaborn as sns\n",
    "\n",
    "random.seed(233)"
   ]
  },
  {
   "cell_type": "markdown",
   "metadata": {
    "slideshow": {
     "slide_type": "subslide"
    }
   },
   "source": [
    "### Data description\n",
    "\n",
    "Read data"
   ]
  },
  {
   "cell_type": "code",
   "execution_count": 15,
   "metadata": {
    "slideshow": {
     "slide_type": "fragment"
    }
   },
   "outputs": [
    {
     "name": "stdout",
     "output_type": "stream",
     "text": [
      "<class 'pandas.core.frame.DataFrame'>\n",
      "RangeIndex: 133887 entries, 0 to 133886\n",
      "Columns: 145 entries, id to settlement_term\n",
      "dtypes: float64(68), int64(40), object(37)\n",
      "memory usage: 148.1+ MB\n"
     ]
    },
    {
     "name": "stderr",
     "output_type": "stream",
     "text": [
      "E:\\anaconda\\lib\\site-packages\\IPython\\core\\interactiveshell.py:2785: DtypeWarning: Columns (19) have mixed types. Specify dtype option on import or set low_memory=False.\n",
      "  interactivity=interactivity, compiler=compiler, result=result)\n"
     ]
    }
   ],
   "source": [
    "data=pd.read_csv(r\"C:\\Users\\ArkSong\\Desktop\\GWU\\Machine Learning 1\\Final Project\\Code\\2016Q1.csv\")\n",
    "\n",
    "data.info()"
   ]
  },
  {
   "cell_type": "markdown",
   "metadata": {
    "slideshow": {
     "slide_type": "slide"
    }
   },
   "source": [
    "### Data processing\n",
    "\n",
    "* Not use all columns. \n",
    "* Select some of them by hand which I think may have effect on default\n"
   ]
  },
  {
   "cell_type": "code",
   "execution_count": 16,
   "metadata": {
    "slideshow": {
     "slide_type": "-"
    }
   },
   "outputs": [
    {
     "name": "stdout",
     "output_type": "stream",
     "text": [
      "<class 'pandas.core.frame.DataFrame'>\n",
      "Int64Index: 132635 entries, 0 to 133842\n",
      "Data columns (total 21 columns):\n",
      "loan_amnt               132635 non-null int64\n",
      "int_rate                132635 non-null object\n",
      "installment             132635 non-null float64\n",
      "annual_inc              132635 non-null float64\n",
      "inq_fi                  132635 non-null float64\n",
      "pub_rec_bankruptcies    132635 non-null int64\n",
      "tax_liens               132635 non-null int64\n",
      "dti                     132635 non-null float64\n",
      "delinq_2yrs             132635 non-null int64\n",
      "open_acc                132635 non-null int64\n",
      "pub_rec                 132635 non-null int64\n",
      "revol_bal               132635 non-null int64\n",
      "revol_util              132635 non-null object\n",
      "total_acc               132635 non-null int64\n",
      "bc_util                 132635 non-null float64\n",
      "term                    132635 non-null object\n",
      "grade                   132635 non-null object\n",
      "home_ownership          132635 non-null object\n",
      "verification_status     132635 non-null object\n",
      "initial_list_status     132635 non-null object\n",
      "loan_status             132635 non-null object\n",
      "dtypes: float64(5), int64(8), object(8)\n",
      "memory usage: 22.3+ MB\n"
     ]
    }
   ],
   "source": [
    "data_total=data[['loan_amnt','int_rate','installment','annual_inc','inq_fi','pub_rec_bankruptcies','tax_liens',\n",
    "            'dti','delinq_2yrs','open_acc','pub_rec','revol_bal','revol_util','total_acc','bc_util',\n",
    "            'term','grade','home_ownership','verification_status','initial_list_status', #categorical\n",
    "            'loan_status']]\n",
    "data_total=data_total.dropna()\n",
    "data_total.info()"
   ]
  },
  {
   "cell_type": "markdown",
   "metadata": {
    "slideshow": {
     "slide_type": "subslide"
    }
   },
   "source": [
    "Varible names | Type | Explaination \n",
    " - | - | -\n",
    "loan_amnt | int | The listed amount of the loan applied for by the borrower\n",
    "int_rate | object | Interest Rate on the loan\n",
    "installment | float | The monthly payment owed by the borrower if the loan originates\n",
    "annual_inc | float | The self-reported annual income provided by the borrower during registration\n",
    "inq_fi | float | Number of personal finance inquiries\n",
    "pub_rec_bankruptcies | int | Number of public record bankruptcies\n",
    "tax_liens | int | Number of tax liens\n",
    "dti | float | A ratio calculated using the borrower’s total monthly debt payments on the total debt obligations\n",
    "delinq_2yrs | int | The number of 30+ days past-due incidences of delinquency in the borrower's credit file for the past 2 years\n",
    "open_acc | int | The number of open credit lines in the borrower's credit file\n",
    "pub_rec | int | Number of derogatory public records\n",
    "revol_bal | int | Total credit revolving balance\n",
    "revol_util | int | Revolving line utilization rate, or the amount of credit the borrower is using relative to all available revolving credit\n",
    "total_acc | int | The total number of credit lines currently in the borrower's credit file\n",
    "bc_util | float | Ratio of total current balance to high credit/credit limit for all bankcard accounts.\n",
    "term | categorical | The number of payments on the loan. Values are in months and can be either 36 or 60\n",
    "grade | categorical | LC assigned loan grade\n",
    "home_ownership | categorical | The home ownership status provided by the borrower during registration\n",
    "verification_status | categorical |Indicates if the co-borrowers' joint income was verified by LC\n",
    "loan_status | categorical | Current status of the loan\n"
   ]
  },
  {
   "cell_type": "markdown",
   "metadata": {
    "slideshow": {
     "slide_type": "subslide"
    }
   },
   "source": [
    "### Data processing\n",
    "#### Handle with response variable (Y)\n"
   ]
  },
  {
   "cell_type": "code",
   "execution_count": 17,
   "metadata": {
    "slideshow": {
     "slide_type": "fragment"
    }
   },
   "outputs": [
    {
     "data": {
      "text/plain": [
       "Fully Paid            57243\n",
       "Current               52247\n",
       "Charged Off           20037\n",
       "Late (31-120 days)     1671\n",
       "In Grace Period         854\n",
       "Late (16-30 days)       515\n",
       "Default                  68\n",
       "Name: loan_status, dtype: int64"
      ]
     },
     "execution_count": 17,
     "metadata": {},
     "output_type": "execute_result"
    }
   ],
   "source": [
    "data_total['loan_status'].value_counts()"
   ]
  },
  {
   "cell_type": "markdown",
   "metadata": {
    "slideshow": {
     "slide_type": "subslide"
    }
   },
   "source": [
    "> The term \"charge off\" means that the original creditor has given up on being repaid according to the original terms of the loan. It considers the remaining balance to be bad debt, but that doesn't mean you no longer owe the amount that has not been repaid.\n",
    "\n",
    "* Combine Default with Charged Off\n",
    "* Delete data with other **Loan Status**"
   ]
  },
  {
   "cell_type": "code",
   "execution_count": 18,
   "metadata": {
    "slideshow": {
     "slide_type": "subslide"
    }
   },
   "outputs": [
    {
     "data": {
      "text/plain": [
       "Fully Paid     57243\n",
       "Charged Off    20105\n",
       "Name: loan_status, dtype: int64"
      ]
     },
     "execution_count": 18,
     "metadata": {},
     "output_type": "execute_result"
    }
   ],
   "source": [
    "data_total=data_total[(data_total.loan_status=='Fully Paid')|\n",
    "        (data_total.loan_status=='Charged Off')|\n",
    "        (data_total.loan_status=='Default')]\n",
    "\n",
    "data_total['loan_status'][data_total.loan_status=='Default']='Charged Off'\n",
    "\n",
    "data_total['loan_status'].value_counts()"
   ]
  },
  {
   "cell_type": "markdown",
   "metadata": {
    "slideshow": {
     "slide_type": "-"
    }
   },
   "source": [
    "* After combination"
   ]
  },
  {
   "cell_type": "code",
   "execution_count": 19,
   "metadata": {
    "scrolled": true,
    "slideshow": {
     "slide_type": "subslide"
    }
   },
   "outputs": [
    {
     "data": {
      "text/html": [
       "<div>\n",
       "<style scoped>\n",
       "    .dataframe tbody tr th:only-of-type {\n",
       "        vertical-align: middle;\n",
       "    }\n",
       "\n",
       "    .dataframe tbody tr th {\n",
       "        vertical-align: top;\n",
       "    }\n",
       "\n",
       "    .dataframe thead th {\n",
       "        text-align: right;\n",
       "    }\n",
       "</style>\n",
       "<table border=\"1\" class=\"dataframe\">\n",
       "  <thead>\n",
       "    <tr style=\"text-align: right;\">\n",
       "      <th></th>\n",
       "      <th>loan_amnt</th>\n",
       "      <th>int_rate</th>\n",
       "      <th>installment</th>\n",
       "      <th>annual_inc</th>\n",
       "      <th>inq_fi</th>\n",
       "      <th>pub_rec_bankruptcies</th>\n",
       "      <th>tax_liens</th>\n",
       "      <th>dti</th>\n",
       "      <th>delinq_2yrs</th>\n",
       "      <th>open_acc</th>\n",
       "      <th>pub_rec</th>\n",
       "      <th>revol_bal</th>\n",
       "      <th>revol_util</th>\n",
       "      <th>total_acc</th>\n",
       "      <th>bc_util</th>\n",
       "      <th>term</th>\n",
       "      <th>grade</th>\n",
       "      <th>home_ownership</th>\n",
       "      <th>verification_status</th>\n",
       "      <th>initial_list_status</th>\n",
       "      <th>loan_status</th>\n",
       "    </tr>\n",
       "  </thead>\n",
       "  <tbody>\n",
       "    <tr>\n",
       "      <th>0</th>\n",
       "      <td>8400</td>\n",
       "      <td>9.75%</td>\n",
       "      <td>270.06</td>\n",
       "      <td>66000.0</td>\n",
       "      <td>1.0</td>\n",
       "      <td>0</td>\n",
       "      <td>0</td>\n",
       "      <td>13.84</td>\n",
       "      <td>0</td>\n",
       "      <td>7</td>\n",
       "      <td>0</td>\n",
       "      <td>11059</td>\n",
       "      <td>78.40%</td>\n",
       "      <td>22</td>\n",
       "      <td>90.6</td>\n",
       "      <td>36 months</td>\n",
       "      <td>B</td>\n",
       "      <td>MORTGAGE</td>\n",
       "      <td>Not Verified</td>\n",
       "      <td>w</td>\n",
       "      <td>Fully Paid</td>\n",
       "    </tr>\n",
       "    <tr>\n",
       "      <th>4</th>\n",
       "      <td>20000</td>\n",
       "      <td>11.99%</td>\n",
       "      <td>664.20</td>\n",
       "      <td>49000.0</td>\n",
       "      <td>0.0</td>\n",
       "      <td>0</td>\n",
       "      <td>0</td>\n",
       "      <td>15.58</td>\n",
       "      <td>1</td>\n",
       "      <td>8</td>\n",
       "      <td>0</td>\n",
       "      <td>19014</td>\n",
       "      <td>89.70%</td>\n",
       "      <td>28</td>\n",
       "      <td>96.3</td>\n",
       "      <td>36 months</td>\n",
       "      <td>C</td>\n",
       "      <td>MORTGAGE</td>\n",
       "      <td>Source Verified</td>\n",
       "      <td>w</td>\n",
       "      <td>Fully Paid</td>\n",
       "    </tr>\n",
       "    <tr>\n",
       "      <th>5</th>\n",
       "      <td>13625</td>\n",
       "      <td>15.31%</td>\n",
       "      <td>326.36</td>\n",
       "      <td>50000.0</td>\n",
       "      <td>2.0</td>\n",
       "      <td>0</td>\n",
       "      <td>0</td>\n",
       "      <td>30.41</td>\n",
       "      <td>0</td>\n",
       "      <td>21</td>\n",
       "      <td>0</td>\n",
       "      <td>9650</td>\n",
       "      <td>12.40%</td>\n",
       "      <td>72</td>\n",
       "      <td>14.0</td>\n",
       "      <td>60 months</td>\n",
       "      <td>C</td>\n",
       "      <td>MORTGAGE</td>\n",
       "      <td>Not Verified</td>\n",
       "      <td>w</td>\n",
       "      <td>Fully Paid</td>\n",
       "    </tr>\n",
       "    <tr>\n",
       "      <th>7</th>\n",
       "      <td>15000</td>\n",
       "      <td>19.53%</td>\n",
       "      <td>393.50</td>\n",
       "      <td>63890.0</td>\n",
       "      <td>13.0</td>\n",
       "      <td>0</td>\n",
       "      <td>0</td>\n",
       "      <td>20.36</td>\n",
       "      <td>0</td>\n",
       "      <td>7</td>\n",
       "      <td>0</td>\n",
       "      <td>4307</td>\n",
       "      <td>40.60%</td>\n",
       "      <td>8</td>\n",
       "      <td>40.6</td>\n",
       "      <td>60 months</td>\n",
       "      <td>D</td>\n",
       "      <td>RENT</td>\n",
       "      <td>Not Verified</td>\n",
       "      <td>w</td>\n",
       "      <td>Charged Off</td>\n",
       "    </tr>\n",
       "    <tr>\n",
       "      <th>11</th>\n",
       "      <td>5000</td>\n",
       "      <td>9.75%</td>\n",
       "      <td>160.75</td>\n",
       "      <td>40000.0</td>\n",
       "      <td>1.0</td>\n",
       "      <td>1</td>\n",
       "      <td>0</td>\n",
       "      <td>10.38</td>\n",
       "      <td>0</td>\n",
       "      <td>25</td>\n",
       "      <td>1</td>\n",
       "      <td>6136</td>\n",
       "      <td>33%</td>\n",
       "      <td>45</td>\n",
       "      <td>62.4</td>\n",
       "      <td>36 months</td>\n",
       "      <td>B</td>\n",
       "      <td>OWN</td>\n",
       "      <td>Source Verified</td>\n",
       "      <td>w</td>\n",
       "      <td>Fully Paid</td>\n",
       "    </tr>\n",
       "    <tr>\n",
       "      <th>12</th>\n",
       "      <td>5000</td>\n",
       "      <td>16.29%</td>\n",
       "      <td>176.51</td>\n",
       "      <td>105000.0</td>\n",
       "      <td>1.0</td>\n",
       "      <td>0</td>\n",
       "      <td>0</td>\n",
       "      <td>9.07</td>\n",
       "      <td>0</td>\n",
       "      <td>13</td>\n",
       "      <td>0</td>\n",
       "      <td>3791</td>\n",
       "      <td>67.70%</td>\n",
       "      <td>15</td>\n",
       "      <td>67.7</td>\n",
       "      <td>36 months</td>\n",
       "      <td>D</td>\n",
       "      <td>MORTGAGE</td>\n",
       "      <td>Not Verified</td>\n",
       "      <td>w</td>\n",
       "      <td>Charged Off</td>\n",
       "    </tr>\n",
       "    <tr>\n",
       "      <th>13</th>\n",
       "      <td>4000</td>\n",
       "      <td>11.99%</td>\n",
       "      <td>132.84</td>\n",
       "      <td>36000.0</td>\n",
       "      <td>0.0</td>\n",
       "      <td>0</td>\n",
       "      <td>0</td>\n",
       "      <td>16.40</td>\n",
       "      <td>0</td>\n",
       "      <td>5</td>\n",
       "      <td>0</td>\n",
       "      <td>12333</td>\n",
       "      <td>98.70%</td>\n",
       "      <td>7</td>\n",
       "      <td>98.7</td>\n",
       "      <td>36 months</td>\n",
       "      <td>C</td>\n",
       "      <td>RENT</td>\n",
       "      <td>Verified</td>\n",
       "      <td>w</td>\n",
       "      <td>Charged Off</td>\n",
       "    </tr>\n",
       "    <tr>\n",
       "      <th>14</th>\n",
       "      <td>24000</td>\n",
       "      <td>9.75%</td>\n",
       "      <td>771.60</td>\n",
       "      <td>50000.0</td>\n",
       "      <td>0.0</td>\n",
       "      <td>0</td>\n",
       "      <td>0</td>\n",
       "      <td>24.46</td>\n",
       "      <td>0</td>\n",
       "      <td>8</td>\n",
       "      <td>0</td>\n",
       "      <td>15702</td>\n",
       "      <td>54.10%</td>\n",
       "      <td>14</td>\n",
       "      <td>49.4</td>\n",
       "      <td>36 months</td>\n",
       "      <td>B</td>\n",
       "      <td>MORTGAGE</td>\n",
       "      <td>Verified</td>\n",
       "      <td>w</td>\n",
       "      <td>Charged Off</td>\n",
       "    </tr>\n",
       "  </tbody>\n",
       "</table>\n",
       "</div>"
      ],
      "text/plain": [
       "    loan_amnt int_rate  installment  annual_inc  inq_fi  pub_rec_bankruptcies  \\\n",
       "0        8400    9.75%       270.06     66000.0     1.0                     0   \n",
       "4       20000   11.99%       664.20     49000.0     0.0                     0   \n",
       "5       13625   15.31%       326.36     50000.0     2.0                     0   \n",
       "7       15000   19.53%       393.50     63890.0    13.0                     0   \n",
       "11       5000    9.75%       160.75     40000.0     1.0                     1   \n",
       "12       5000   16.29%       176.51    105000.0     1.0                     0   \n",
       "13       4000   11.99%       132.84     36000.0     0.0                     0   \n",
       "14      24000    9.75%       771.60     50000.0     0.0                     0   \n",
       "\n",
       "    tax_liens    dti  delinq_2yrs  open_acc  pub_rec  revol_bal revol_util  \\\n",
       "0           0  13.84            0         7        0      11059     78.40%   \n",
       "4           0  15.58            1         8        0      19014     89.70%   \n",
       "5           0  30.41            0        21        0       9650     12.40%   \n",
       "7           0  20.36            0         7        0       4307     40.60%   \n",
       "11          0  10.38            0        25        1       6136        33%   \n",
       "12          0   9.07            0        13        0       3791     67.70%   \n",
       "13          0  16.40            0         5        0      12333     98.70%   \n",
       "14          0  24.46            0         8        0      15702     54.10%   \n",
       "\n",
       "    total_acc  bc_util        term grade home_ownership verification_status  \\\n",
       "0          22     90.6   36 months     B       MORTGAGE        Not Verified   \n",
       "4          28     96.3   36 months     C       MORTGAGE     Source Verified   \n",
       "5          72     14.0   60 months     C       MORTGAGE        Not Verified   \n",
       "7           8     40.6   60 months     D           RENT        Not Verified   \n",
       "11         45     62.4   36 months     B            OWN     Source Verified   \n",
       "12         15     67.7   36 months     D       MORTGAGE        Not Verified   \n",
       "13          7     98.7   36 months     C           RENT            Verified   \n",
       "14         14     49.4   36 months     B       MORTGAGE            Verified   \n",
       "\n",
       "   initial_list_status  loan_status  \n",
       "0                    w   Fully Paid  \n",
       "4                    w   Fully Paid  \n",
       "5                    w   Fully Paid  \n",
       "7                    w  Charged Off  \n",
       "11                   w   Fully Paid  \n",
       "12                   w  Charged Off  \n",
       "13                   w  Charged Off  \n",
       "14                   w  Charged Off  "
      ]
     },
     "execution_count": 19,
     "metadata": {},
     "output_type": "execute_result"
    }
   ],
   "source": [
    "pd.set_option('display.max_columns', None)\n",
    "\n",
    "\n",
    "data_total.head(8)"
   ]
  },
  {
   "cell_type": "markdown",
   "metadata": {},
   "source": [
    "* There are still some categorical variables in dataset"
   ]
  },
  {
   "cell_type": "markdown",
   "metadata": {
    "slideshow": {
     "slide_type": "subslide"
    }
   },
   "source": [
    "### Data Processing\n",
    "#### Create Dummy Variables\n",
    "\n"
   ]
  },
  {
   "cell_type": "code",
   "execution_count": 20,
   "metadata": {
    "slideshow": {
     "slide_type": "fragment"
    }
   },
   "outputs": [
    {
     "data": {
      "text/html": [
       "<div>\n",
       "<style scoped>\n",
       "    .dataframe tbody tr th:only-of-type {\n",
       "        vertical-align: middle;\n",
       "    }\n",
       "\n",
       "    .dataframe tbody tr th {\n",
       "        vertical-align: top;\n",
       "    }\n",
       "\n",
       "    .dataframe thead th {\n",
       "        text-align: right;\n",
       "    }\n",
       "</style>\n",
       "<table border=\"1\" class=\"dataframe\">\n",
       "  <thead>\n",
       "    <tr style=\"text-align: right;\">\n",
       "      <th></th>\n",
       "      <th>Not Verified</th>\n",
       "      <th>Source Verified</th>\n",
       "      <th>Verified</th>\n",
       "    </tr>\n",
       "  </thead>\n",
       "  <tbody>\n",
       "    <tr>\n",
       "      <th>0</th>\n",
       "      <td>1</td>\n",
       "      <td>0</td>\n",
       "      <td>0</td>\n",
       "    </tr>\n",
       "    <tr>\n",
       "      <th>4</th>\n",
       "      <td>0</td>\n",
       "      <td>1</td>\n",
       "      <td>0</td>\n",
       "    </tr>\n",
       "    <tr>\n",
       "      <th>5</th>\n",
       "      <td>1</td>\n",
       "      <td>0</td>\n",
       "      <td>0</td>\n",
       "    </tr>\n",
       "    <tr>\n",
       "      <th>7</th>\n",
       "      <td>1</td>\n",
       "      <td>0</td>\n",
       "      <td>0</td>\n",
       "    </tr>\n",
       "    <tr>\n",
       "      <th>11</th>\n",
       "      <td>0</td>\n",
       "      <td>1</td>\n",
       "      <td>0</td>\n",
       "    </tr>\n",
       "    <tr>\n",
       "      <th>12</th>\n",
       "      <td>1</td>\n",
       "      <td>0</td>\n",
       "      <td>0</td>\n",
       "    </tr>\n",
       "    <tr>\n",
       "      <th>13</th>\n",
       "      <td>0</td>\n",
       "      <td>0</td>\n",
       "      <td>1</td>\n",
       "    </tr>\n",
       "    <tr>\n",
       "      <th>14</th>\n",
       "      <td>0</td>\n",
       "      <td>0</td>\n",
       "      <td>1</td>\n",
       "    </tr>\n",
       "    <tr>\n",
       "      <th>18</th>\n",
       "      <td>1</td>\n",
       "      <td>0</td>\n",
       "      <td>0</td>\n",
       "    </tr>\n",
       "    <tr>\n",
       "      <th>19</th>\n",
       "      <td>1</td>\n",
       "      <td>0</td>\n",
       "      <td>0</td>\n",
       "    </tr>\n",
       "  </tbody>\n",
       "</table>\n",
       "</div>"
      ],
      "text/plain": [
       "    Not Verified  Source Verified  Verified\n",
       "0              1                0         0\n",
       "4              0                1         0\n",
       "5              1                0         0\n",
       "7              1                0         0\n",
       "11             0                1         0\n",
       "12             1                0         0\n",
       "13             0                0         1\n",
       "14             0                0         1\n",
       "18             1                0         0\n",
       "19             1                0         0"
      ]
     },
     "execution_count": 20,
     "metadata": {},
     "output_type": "execute_result"
    }
   ],
   "source": [
    "verification_status_d=pd.get_dummies(data_total.verification_status)\n",
    "verification_status_d.head(10)"
   ]
  },
  {
   "cell_type": "markdown",
   "metadata": {
    "slideshow": {
     "slide_type": "subslide"
    }
   },
   "source": [
    "### Data Processing\n",
    "####  Dummy Variables multicollinearity\n",
    "* Drop one of the category\n"
   ]
  },
  {
   "cell_type": "code",
   "execution_count": 21,
   "metadata": {
    "slideshow": {
     "slide_type": "fragment"
    }
   },
   "outputs": [
    {
     "data": {
      "text/html": [
       "<div>\n",
       "<style scoped>\n",
       "    .dataframe tbody tr th:only-of-type {\n",
       "        vertical-align: middle;\n",
       "    }\n",
       "\n",
       "    .dataframe tbody tr th {\n",
       "        vertical-align: top;\n",
       "    }\n",
       "\n",
       "    .dataframe thead th {\n",
       "        text-align: right;\n",
       "    }\n",
       "</style>\n",
       "<table border=\"1\" class=\"dataframe\">\n",
       "  <thead>\n",
       "    <tr style=\"text-align: right;\">\n",
       "      <th></th>\n",
       "      <th>Source Verified</th>\n",
       "      <th>Verified</th>\n",
       "    </tr>\n",
       "  </thead>\n",
       "  <tbody>\n",
       "    <tr>\n",
       "      <th>0</th>\n",
       "      <td>0</td>\n",
       "      <td>0</td>\n",
       "    </tr>\n",
       "    <tr>\n",
       "      <th>4</th>\n",
       "      <td>1</td>\n",
       "      <td>0</td>\n",
       "    </tr>\n",
       "    <tr>\n",
       "      <th>5</th>\n",
       "      <td>0</td>\n",
       "      <td>0</td>\n",
       "    </tr>\n",
       "    <tr>\n",
       "      <th>7</th>\n",
       "      <td>0</td>\n",
       "      <td>0</td>\n",
       "    </tr>\n",
       "    <tr>\n",
       "      <th>11</th>\n",
       "      <td>1</td>\n",
       "      <td>0</td>\n",
       "    </tr>\n",
       "    <tr>\n",
       "      <th>12</th>\n",
       "      <td>0</td>\n",
       "      <td>0</td>\n",
       "    </tr>\n",
       "    <tr>\n",
       "      <th>13</th>\n",
       "      <td>0</td>\n",
       "      <td>1</td>\n",
       "    </tr>\n",
       "    <tr>\n",
       "      <th>14</th>\n",
       "      <td>0</td>\n",
       "      <td>1</td>\n",
       "    </tr>\n",
       "  </tbody>\n",
       "</table>\n",
       "</div>"
      ],
      "text/plain": [
       "    Source Verified  Verified\n",
       "0                 0         0\n",
       "4                 1         0\n",
       "5                 0         0\n",
       "7                 0         0\n",
       "11                1         0\n",
       "12                0         0\n",
       "13                0         1\n",
       "14                0         1"
      ]
     },
     "execution_count": 21,
     "metadata": {},
     "output_type": "execute_result"
    }
   ],
   "source": [
    "verification_status_d.drop(labels='Not Verified',axis=1,inplace=True)\n",
    "verification_status_d.head(8)"
   ]
  },
  {
   "cell_type": "code",
   "execution_count": 22,
   "metadata": {
    "slideshow": {
     "slide_type": "subslide"
    }
   },
   "outputs": [],
   "source": [
    "# term\n",
    "term_d=pd.get_dummies(data_total.term)\n",
    "term_d.drop(labels=' 36 months',axis=1,inplace=True) #60 months=1 36 months=0\n",
    "\n",
    "#grade\n",
    "grade_d=pd.get_dummies(data_total.grade)\n",
    "grade_d.drop(labels='G',axis=1,inplace=True)  #drop  grade G\n",
    "\n",
    "#home_ownership\n",
    "home_ownership_d=pd.get_dummies(data_total.home_ownership)\n",
    "home_ownership_d.drop(labels='RENT',axis=1,inplace=True) #drop RENT\n",
    "\n",
    "#verification_status\n",
    "verification_status_d=pd.get_dummies(data_total.verification_status)\n",
    "verification_status_d.drop(labels='Not Verified',axis=1,inplace=True) #drop Not Verified\n",
    "\n",
    "#initial_list_status\n",
    "initial_list_status_d=pd.get_dummies(data_total.initial_list_status)\n",
    "initial_list_status_d.drop(labels='w',axis=1,inplace=True)\n",
    "\n",
    "#loan_status\n",
    "loan_status_d=pd.get_dummies(data_total.loan_status)\n",
    "loan_status_d.drop(labels='Fully Paid',axis=1,inplace=True)\n",
    "loan_status_d.rename(columns={'Charged Off':'Charged_Off'},inplace=True)\n",
    "\n",
    "data_total['int_rate']=data_total['int_rate'].str.strip('%').astype(float)/100\n",
    "data_total['revol_util']=data_total['revol_util'].str.strip('%').astype(float)/100"
   ]
  },
  {
   "cell_type": "markdown",
   "metadata": {
    "slideshow": {
     "slide_type": "subslide"
    }
   },
   "source": [
    "### Data Processing\n",
    "\n",
    "After creating dummy variables, concatenate them with original dataset"
   ]
  },
  {
   "cell_type": "code",
   "execution_count": 23,
   "metadata": {
    "slideshow": {
     "slide_type": "fragment"
    }
   },
   "outputs": [],
   "source": [
    "data_total=pd.concat([data_total,term_d,grade_d,home_ownership_d,\n",
    "                 verification_status_d,initial_list_status_d,loan_status_d],axis=1)\n",
    "    \n",
    "\n",
    "\n",
    "data_total.drop(labels=['loan_status','term','grade','home_ownership',\n",
    "                   'verification_status','initial_list_status'],axis=1,inplace=True)"
   ]
  },
  {
   "cell_type": "markdown",
   "metadata": {
    "slideshow": {
     "slide_type": "slide"
    }
   },
   "source": [
    "### Feature relevance analysis \n",
    "#### Calculate Correalation\n",
    "\n",
    "* Select all numerical variables\n",
    "* Calculate Pearson correlation coefficient "
   ]
  },
  {
   "cell_type": "code",
   "execution_count": 24,
   "metadata": {
    "slideshow": {
     "slide_type": "fragment"
    }
   },
   "outputs": [],
   "source": [
    "df_temp=data_total[['Charged_Off','loan_amnt','int_rate','installment','annual_inc','inq_fi','pub_rec_bankruptcies','tax_liens',\n",
    "            'dti','delinq_2yrs','open_acc','pub_rec','revol_bal','revol_util','total_acc','bc_util']]\n"
   ]
  },
  {
   "cell_type": "code",
   "execution_count": 25,
   "metadata": {
    "slideshow": {
     "slide_type": "subslide"
    }
   },
   "outputs": [],
   "source": [
    "corr=df_temp.corr()"
   ]
  },
  {
   "cell_type": "code",
   "execution_count": 26,
   "metadata": {},
   "outputs": [
    {
     "data": {
      "text/plain": [
       "<matplotlib.axes._subplots.AxesSubplot at 0x2cbbb9244a8>"
      ]
     },
     "execution_count": 26,
     "metadata": {},
     "output_type": "execute_result"
    },
    {
     "data": {
      "image/png": "[encoded data removed]",
      "text/plain": [
       "<Figure size 792x648 with 2 Axes>"
      ]
     },
     "metadata": {},
     "output_type": "display_data"
    }
   ],
   "source": [
    "mask = np.zeros_like(corr, dtype=np.bool)\n",
    "mask[np.triu_indices_from(mask)] = True\n",
    "\n",
    "f, ax = plt.subplots(figsize=(11, 9))\n",
    "\n",
    "cmap = sns.diverging_palette(220, 10, as_cmap=True)\n",
    "\n",
    "sns.heatmap(corr, mask=mask, cmap=cmap, vmax=.3, center=0,\n",
    "            square=True, linewidths=.5, cbar_kws={\"shrink\": .5})"
   ]
  },
  {
   "cell_type": "markdown",
   "metadata": {
    "slideshow": {
     "slide_type": "slide"
    }
   },
   "source": [
    "### Data normalization\n",
    "\n",
    "* Use Standard Scaler\n",
    "* Increase the speed of convergence in learning algorithm in later use\n",
    "* Significant improvement in Neural network training"
   ]
  },
  {
   "cell_type": "code",
   "execution_count": 27,
   "metadata": {},
   "outputs": [],
   "source": [
    "def feature_norm(X):\n",
    "    X=(X-X.mean(axis=0))/X.std(axis=0)\n",
    "    return X\n",
    "    \n",
    "data_total['loan_amnt']=feature_norm(data_total.loan_amnt)\n",
    "data_total['installment']=feature_norm(data_total.installment)\n",
    "data_total['annual_inc']=feature_norm(data_total.annual_inc)\n",
    "data_total['revol_bal']=feature_norm(data_total.revol_bal)"
   ]
  },
  {
   "cell_type": "markdown",
   "metadata": {
    "slideshow": {
     "slide_type": "slide"
    }
   },
   "source": [
    "### Training / Cross-validation / Test dataset generation\n",
    "\n",
    "* Proportion:\n",
    "    * Training set: 60%\n",
    "    * Cross-validation set: 20%\n",
    "    * Test set: 20%"
   ]
  },
  {
   "cell_type": "code",
   "execution_count": 28,
   "metadata": {
    "slideshow": {
     "slide_type": "subslide"
    }
   },
   "outputs": [],
   "source": [
    "def shuffle(df):\n",
    "    df_0=df[df.Charged_Off==0] # Divide\n",
    "    df_1=df[df.Charged_Off==1]\n",
    "    df_0=df_0.sample(frac=1,random_state=233).reset_index(drop=True)  # shuffle\n",
    "    df_1=df_1.sample(frac=1,random_state=233).reset_index(drop=True)\n",
    "    m0=len(df_0)\n",
    "    m1=len(df_1)\n",
    "    \n",
    "    df_0_train=df_0[0:int(m0*0.6)]     # 60% for training set\n",
    "    df_1_train=df_1[0:int(m1*0.6)]\n",
    "    \n",
    "    df_0_cv=df_0[int(m0*0.6):int(m0*0.8)] # 20% for cross-validation set\n",
    "    df_1_cv=df_1[int(m1*0.6):int(m1*0.8)]\n",
    "    \n",
    "    df_0_test=df_0[int(m0*0.8):]   # 20% for test set\n",
    "    df_1_test=df_1[int(m1*0.8):]\n",
    "    \n",
    "    frames_train=[df_0_train,df_1_train] # Combine\n",
    "    frames_cv=[df_0_cv,df_1_cv]\n",
    "    frames_test=[df_0_test,df_1_test]\n",
    "    data_train=pd.concat(frames_train) \n",
    "    data_cv=pd.concat(frames_cv)\n",
    "    data_test=pd.concat(frames_test)\n",
    "    \n",
    "    data_train=data_train.sample(frac=1,random_state=23).reset_index(drop=True)  # after concation, reshuffle\n",
    "    data_cv=data_cv.sample(frac=1,random_state=23).reset_index(drop=True)        # Make sure each set have\n",
    "    data_test=data_test.sample(frac=1,random_state=23).reset_index(drop=True)    # same Full_paid / Default ratio\n",
    "    \n",
    "    return data_train,data_cv,data_test    \n",
    "data_train,data_cv,data_test=shuffle(data_total)"
   ]
  },
  {
   "cell_type": "markdown",
   "metadata": {
    "slideshow": {
     "slide_type": "slide"
    }
   },
   "source": [
    "### Model building\n",
    "**Pros and cons**\n",
    "\n",
    "1. Logistic Regression\n",
    "    * The most common\n",
    "    * Fast and easy to implement\n",
    "    * Better fit for linear separation   \n",
    "\n",
    "2. Neural Network\n",
    "    * More complex \n",
    "    * Take more time to train\n",
    "    * Better fit for non-linear separation\n",
    "    "
   ]
  },
  {
   "cell_type": "markdown",
   "metadata": {
    "slideshow": {
     "slide_type": "subslide"
    }
   },
   "source": [
    "### Model building\n",
    "**Output evaluation**\n",
    "\n",
    "1. Accuracy\n",
    "    * All model use same cut-off (such as 0.5) to compare\n",
    "    * Event probability / rate: Intuitive\n",
    "    * Fixed cut-off:  May not be appropriate for every model\n",
    "\n",
    "2. Area Under Curve(AUC)\n",
    "    * More universality: Each model has only 1 AUC\n",
    "    * Hard to interpret directly"
   ]
  },
  {
   "cell_type": "markdown",
   "metadata": {
    "slideshow": {
     "slide_type": "slide"
    }
   },
   "source": [
    "### Logistic regression\n",
    "\n",
    "1. Use statistical package\n",
    "    * Quick implementation\n",
    "    * Nice visualization\n",
    "    \n",
    "2. Build model by hand\n",
    "    * Draw learning curve plot\n",
    "    * Introduce regularization parameter\n",
    "    * Later use for neural network model"
   ]
  },
  {
   "cell_type": "code",
   "execution_count": 29,
   "metadata": {
    "slideshow": {
     "slide_type": "skip"
    }
   },
   "outputs": [],
   "source": [
    "import warnings\n",
    "warnings.filterwarnings('ignore')"
   ]
  },
  {
   "cell_type": "code",
   "execution_count": 30,
   "metadata": {
    "slideshow": {
     "slide_type": "skip"
    }
   },
   "outputs": [],
   "source": [
    "X_train=data_train[['loan_amnt', 'int_rate', 'installment', 'annual_inc', 'inq_fi',\n",
    "       'pub_rec_bankruptcies', 'tax_liens', 'dti', 'delinq_2yrs', 'open_acc',\n",
    "       'pub_rec', 'revol_bal', 'revol_util', 'total_acc', 'bc_util',\n",
    "       ' 60 months', 'A', 'B', 'C', 'D', 'E', 'F', 'MORTGAGE', 'OWN',\n",
    "       'Source Verified', 'Verified', 'f']]\n",
    "Y_train=data_train[ 'Charged_Off']\n",
    "\n",
    "X_test=data_test[['loan_amnt', 'int_rate', 'installment', 'annual_inc', 'inq_fi',\n",
    "       'pub_rec_bankruptcies', 'tax_liens', 'dti', 'delinq_2yrs', 'open_acc',\n",
    "       'pub_rec', 'revol_bal', 'revol_util', 'total_acc', 'bc_util',\n",
    "       ' 60 months', 'A', 'B', 'C', 'D', 'E', 'F', 'MORTGAGE', 'OWN',\n",
    "       'Source Verified', 'Verified', 'f']]\n",
    "Y_test=data_test[ 'Charged_Off']"
   ]
  },
  {
   "cell_type": "markdown",
   "metadata": {
    "slideshow": {
     "slide_type": "subslide"
    }
   },
   "source": [
    "#### 1. Use statistical package"
   ]
  },
  {
   "cell_type": "code",
   "execution_count": 31,
   "metadata": {
    "slideshow": {
     "slide_type": "fragment"
    }
   },
   "outputs": [
    {
     "name": "stdout",
     "output_type": "stream",
     "text": [
      "Optimization terminated successfully.\n",
      "         Current function value: inf\n",
      "         Iterations 6\n"
     ]
    }
   ],
   "source": [
    "import statsmodels.api as sm\n",
    "from sklearn.linear_model import LogisticRegression\n",
    "from sklearn.metrics import roc_auc_score\n",
    "from sklearn.metrics import roc_curve\n",
    "\n",
    "logit_model=sm.Logit(Y_train,X_train)\n",
    "result=logit_model.fit()"
   ]
  },
  {
   "cell_type": "code",
   "execution_count": 32,
   "metadata": {
    "slideshow": {
     "slide_type": "subslide"
    }
   },
   "outputs": [
    {
     "name": "stdout",
     "output_type": "stream",
     "text": [
      "                           Results: Logit\n",
      "=====================================================================\n",
      "Model:                  Logit              Pseudo R-squared:   inf   \n",
      "Dependent Variable:     Charged_Off        AIC:                inf   \n",
      "Date:                   2018-12-11 16:24   BIC:                inf   \n",
      "No. Observations:       46408              Log-Likelihood:     -inf  \n",
      "Df Model:               26                 LL-Null:            0.0000\n",
      "Df Residuals:           46381              LLR p-value:        1.0000\n",
      "Converged:              1.0000             Scale:              1.0000\n",
      "No. Iterations:         6.0000                                       \n",
      "---------------------------------------------------------------------\n",
      "                      Coef.  Std.Err.    z     P>|z|   [0.025  0.975]\n",
      "---------------------------------------------------------------------\n",
      "loan_amnt            -0.2598   0.0864  -3.0065 0.0026 -0.4291 -0.0904\n",
      "int_rate             -0.7801   0.4715  -1.6547 0.0980 -1.7042  0.1439\n",
      "installment           0.3078   0.0806   3.8170 0.0001  0.1498  0.4659\n",
      "annual_inc           -0.0713   0.0242  -2.9464 0.0032 -0.1187 -0.0239\n",
      "inq_fi                0.0264   0.0070   3.7649 0.0002  0.0127  0.0401\n",
      "pub_rec_bankruptcies -0.0517   0.0509  -1.0151 0.3100 -0.1514  0.0481\n",
      "tax_liens            -0.0405   0.0507  -0.7991 0.4243 -0.1398  0.0588\n",
      "dti                   0.0123   0.0014   8.9521 0.0000  0.0096  0.0150\n",
      "delinq_2yrs           0.0528   0.0124   4.2768 0.0000  0.0286  0.0770\n",
      "open_acc              0.0297   0.0029  10.2722 0.0000  0.0240  0.0353\n",
      "pub_rec               0.0836   0.0436   1.9164 0.0553 -0.0019  0.1691\n",
      "revol_bal            -0.0589   0.0161  -3.6487 0.0003 -0.0905 -0.0273\n",
      "revol_util            0.1699   0.0926   1.8343 0.0666 -0.0116  0.3514\n",
      "total_acc            -0.0122   0.0014  -8.7660 0.0000 -0.0149 -0.0094\n",
      "bc_util               0.0002   0.0008   0.2849 0.7757 -0.0013  0.0017\n",
      " 60 months            0.5073   0.0678   7.4787 0.0000  0.3743  0.6402\n",
      "A                    -2.5261   0.0576 -43.8617 0.0000 -2.6389 -2.4132\n",
      "B                    -1.7872   0.0542 -32.9539 0.0000 -1.8935 -1.6809\n",
      "C                    -1.3086   0.0606 -21.6071 0.0000 -1.4273 -1.1899\n",
      "D                    -0.9145   0.0731 -12.5014 0.0000 -1.0578 -0.7711\n",
      "E                    -0.7607   0.0847  -8.9841 0.0000 -0.9266 -0.5947\n",
      "F                    -0.4864   0.1039  -4.6799 0.0000 -0.6901 -0.2827\n",
      "MORTGAGE             -0.4091   0.0251 -16.2922 0.0000 -0.4583 -0.3598\n",
      "OWN                  -0.2014   0.0368  -5.4777 0.0000 -0.2735 -0.1293\n",
      "Source Verified       0.1130   0.0290   3.8953 0.0001  0.0562  0.1699\n",
      "Verified              0.1975   0.0311   6.3577 0.0000  0.1366  0.2584\n",
      "f                     0.0316   0.0305   1.0361 0.3001 -0.0282  0.0914\n",
      "=====================================================================\n",
      "\n"
     ]
    }
   ],
   "source": [
    "print(result.summary2())"
   ]
  },
  {
   "cell_type": "code",
   "execution_count": 33,
   "metadata": {
    "slideshow": {
     "slide_type": "subslide"
    }
   },
   "outputs": [
    {
     "name": "stdout",
     "output_type": "stream",
     "text": [
      "Accuracy of logistic regression classifier on test set: 0.74861021\n"
     ]
    }
   ],
   "source": [
    "logreg = LogisticRegression()\n",
    "logreg.fit(X_train, Y_train)\n",
    "\n",
    "print('Accuracy of logistic regression classifier on test set: {:.8f}'.format(logreg.score(X_test, Y_test)))"
   ]
  },
  {
   "cell_type": "code",
   "execution_count": 34,
   "metadata": {
    "slideshow": {
     "slide_type": "subslide"
    }
   },
   "outputs": [
    {
     "data": {
      "image/png": "[encoded data removed]",
      "text/plain": [
       "<Figure size 432x288 with 1 Axes>"
      ]
     },
     "metadata": {},
     "output_type": "display_data"
    }
   ],
   "source": [
    "logit_roc_auc = roc_auc_score(Y_test, logreg.predict_proba(X_test)[...,1])\n",
    "\n",
    "fpr, tpr, thresholds = roc_curve(Y_test, logreg.predict_proba(X_test)[:,1])\n",
    "plt.figure()\n",
    "plt.plot(fpr, tpr, label='Logistic Regression (area = %0.8f)' % logit_roc_auc)\n",
    "plt.plot([0, 1], [0, 1],'r--')\n",
    "plt.xlim([0.0, 1.0])\n",
    "plt.ylim([0.0, 1.05])\n",
    "plt.xlabel('False Positive Rate')\n",
    "plt.ylabel('True Positive Rate')\n",
    "plt.title('Receiver operating characteristic')\n",
    "plt.legend(loc=\"lower right\")\n",
    "plt.savefig('Log_ROC')\n",
    "plt.show()"
   ]
  },
  {
   "cell_type": "markdown",
   "metadata": {
    "slideshow": {
     "slide_type": "subslide"
    }
   },
   "source": [
    "#### Build model by hand\n",
    "\n",
    "1. Sigmoid function\n",
    "2. Cost function\n",
    "3. Gradient function"
   ]
  },
  {
   "cell_type": "code",
   "execution_count": 35,
   "metadata": {
    "slideshow": {
     "slide_type": "skip"
    }
   },
   "outputs": [],
   "source": [
    "data_train=data_train.values\n",
    "data_cv=data_cv.values\n",
    "data_test=data_test.values\n",
    "\n",
    "X_train=np.array(data_train[...,0:(data_train.shape[1]-1)])\n",
    "Y_train=np.array(data_train[...,data_train.shape[1]-1])\n",
    "\n",
    "X_train=X_train.reshape(len(X_train),(data_train.shape[1]-1))\n",
    "Y_train=Y_train.reshape(len(Y_train),1)\n",
    "\n",
    "X_train = X_train.astype(float)\n",
    "Y_train = Y_train.astype(float)\n",
    "\n",
    "\n",
    "X_cv=np.array(data_cv[...,0:(data_cv.shape[1]-1)])\n",
    "Y_cv=np.array(data_cv[...,data_cv.shape[1]-1])\n",
    "\n",
    "X_cv=X_cv.reshape(len(X_cv),(data_cv.shape[1]-1))\n",
    "Y_cv=Y_cv.reshape(len(Y_cv),1)\n",
    "\n",
    "X_cv = X_cv.astype(float)\n",
    "Y_cv = Y_cv.astype(float)\n",
    "\n",
    "\n",
    "X_test=np.array(data_test[...,0:(data_test.shape[1]-1)])\n",
    "Y_test=np.array(data_test[...,data_test.shape[1]-1])\n",
    "\n",
    "X_test=X_test.reshape(len(X_test),(data_test.shape[1]-1))\n",
    "Y_test=Y_test.reshape(len(Y_test),1)\n",
    "\n",
    "X_test = X_test.astype(float)\n",
    "Y_test = Y_test.astype(float)"
   ]
  },
  {
   "cell_type": "code",
   "execution_count": 36,
   "metadata": {
    "slideshow": {
     "slide_type": "subslide"
    }
   },
   "outputs": [],
   "source": [
    "def sigmoid(z):\n",
    "    \n",
    "    g=1.0/(1.0+np.exp(-z))\n",
    "    return g\n",
    "\n",
    "def costfunction(theta,X,Y,lam):\n",
    "    m,n=X.shape\n",
    "    theta=theta.reshape((n,1))\n",
    "    J=sum(-Y*np.log(sigmoid(np.dot(X,theta)))-\n",
    "          (1-Y)*np.log(1-sigmoid(np.dot(X,theta))))/m\n",
    "    J=J+lam*sum(theta[1:n,0]**2)/(2*m)\n",
    "    return J\n",
    "\n",
    "def gradient(theta,X,Y,lam):\n",
    "    m,n=X.shape\n",
    "    theta=theta.reshape((n,1))\n",
    "    grad=np.dot(X.T,(sigmoid(np.dot(X,theta))-Y))/m\n",
    "    temp=np.append(0,lam*theta[1:,...]/m)\n",
    "    temp=temp.reshape((n,1))\n",
    "    grad=grad+temp\n",
    "    return grad.flatten()"
   ]
  },
  {
   "cell_type": "code",
   "execution_count": 37,
   "metadata": {
    "slideshow": {
     "slide_type": "subslide"
    }
   },
   "outputs": [],
   "source": [
    "def init_data(X):\n",
    "    m,n=X.shape\n",
    "    X=np.column_stack((np.ones((m,1)),X))\n",
    "    return X\n",
    "\n",
    "def predict(theta,X):\n",
    "    X=init_data(X)\n",
    "    pred=sigmoid(np.dot(X,theta))        \n",
    "    return pred\n",
    "\n",
    "def cut_off(pred):\n",
    "    m=len(pred)\n",
    "    res=np.zeros(m)\n",
    "    for i in range(0,m):\n",
    "        if pred[i]>=0.5:\n",
    "            res[i]=1\n",
    "        else:\n",
    "            res[i]=0\n",
    "    res=res.reshape((m,1))\n",
    "    return res\n",
    "    \n",
    "def train(X,Y,lam):\n",
    "    m,n=X.shape\n",
    "    init_theta=np.zeros(n+1)\n",
    "    X=init_data(X)\n",
    "    result=op.minimize(fun=costfunction,x0=init_theta,args=(X,Y,lam),\n",
    "                       method='TNC',jac=gradient,options={'maxiter':1000})\n",
    "    theta=result.x\n",
    "    return theta"
   ]
  },
  {
   "cell_type": "markdown",
   "metadata": {
    "slideshow": {
     "slide_type": "subslide"
    }
   },
   "source": [
    "#### Train the model and test"
   ]
  },
  {
   "cell_type": "code",
   "execution_count": 38,
   "metadata": {
    "slideshow": {
     "slide_type": "-"
    }
   },
   "outputs": [
    {
     "name": "stdout",
     "output_type": "stream",
     "text": [
      "Accuracy under 0.5 is 74.86102133160956\n",
      "AUC is 0.716633016865839\n"
     ]
    }
   ],
   "source": [
    "theta=train(X_train,Y_train,0)\n",
    "\n",
    "Y_test_pred=predict(theta,X_test)\n",
    "\n",
    "\n",
    "res=cut_off(Y_test_pred)\n",
    "\n",
    "print('Accuracy under 0.5 is',np.mean(res==Y_test)*100)\n",
    "\n",
    "\n",
    "\n",
    "print('AUC is',roc_auc_score(Y_test,Y_test_pred))"
   ]
  },
  {
   "cell_type": "markdown",
   "metadata": {},
   "source": [
    "* Compared to result using package: Accuracy 0.75, AUC 0.71656"
   ]
  },
  {
   "cell_type": "markdown",
   "metadata": {
    "slideshow": {
     "slide_type": "subslide"
    }
   },
   "source": [
    "#### Learning curve\n",
    "* For training set size in 1:m, train the model to get theta\n",
    "* Calculate the cost in traning set and cross-validation set\n",
    "* Plot two cost with training size"
   ]
  },
  {
   "cell_type": "code",
   "execution_count": 39,
   "metadata": {
    "slideshow": {
     "slide_type": "fragment"
    }
   },
   "outputs": [],
   "source": [
    "def learning_curve(X,Y,X_cv,Y_cv,lam):\n",
    "    m=1000\n",
    "    error_train=np.zeros((m,1))\n",
    "    error_cv=np.zeros((m,1))\n",
    "    X_cv=init_data(X_cv)    \n",
    "    for i in range(0,m):\n",
    "        theta=train(X[0:(i+1),...],Y[0:(i+1),...],lam)\n",
    "        X_temp=init_data(X[0:(i+1),...])\n",
    "        Y_temp=Y[0:(i+1),...]\n",
    "        Jt=costfunction(theta,X_temp,Y_temp,lam)        \n",
    "        Jv=costfunction(theta,X_cv,Y_cv,lam)\n",
    "        error_train[i,0]=Jt\n",
    "        error_cv[i,0]=Jv    \n",
    "    return error_train,error_cv"
   ]
  },
  {
   "cell_type": "code",
   "execution_count": 40,
   "metadata": {
    "slideshow": {
     "slide_type": "subslide"
    }
   },
   "outputs": [],
   "source": [
    "error_train,error_cv=learning_curve(X_train,Y_train,X_cv,Y_cv,0)"
   ]
  },
  {
   "cell_type": "code",
   "execution_count": 41,
   "metadata": {
    "slideshow": {
     "slide_type": "fragment"
    }
   },
   "outputs": [
    {
     "data": {
      "image/png": "[encoded data removed]",
      "text/plain": [
       "<Figure size 432x288 with 1 Axes>"
      ]
     },
     "metadata": {},
     "output_type": "display_data"
    }
   ],
   "source": [
    "plt.figure()\n",
    "plt.plot(range(88,1001),error_train[87:,...],label='training error')\n",
    "plt.plot(range(88,1001),error_cv[87:,...],color='red',label='cross-validation error')\n",
    "plt.xlabel('Training size')\n",
    "plt.ylabel('Cost')\n",
    "plt.title('Learning curve')\n",
    "plt.legend(loc=\"upper right\")\n",
    "plt.show()"
   ]
  },
  {
   "cell_type": "markdown",
   "metadata": {
    "slideshow": {
     "slide_type": "slide"
    }
   },
   "source": [
    "### Neural Network\n",
    "\n",
    "* Model: 1 hidden layer\n",
    "* Input layer size: 27\n",
    "* Hidden layer size: 10\n",
    "* Number of labels: 1"
   ]
  },
  {
   "cell_type": "code",
   "execution_count": 42,
   "metadata": {
    "slideshow": {
     "slide_type": "subslide"
    }
   },
   "outputs": [],
   "source": [
    "def sigmoid_grad(z):\n",
    "    g_grad=sigmoid(z)*(1-sigmoid(z))\n",
    "    return g_grad\n",
    "\n",
    "def randinit_weights(L_in,L_out):\n",
    "    epsilon_init=np.sqrt(6)/np.sqrt(L_in+L_out)\n",
    "    W=np.random.rand(L_in+1,L_out)*2*epsilon_init-epsilon_init\n",
    "    return W"
   ]
  },
  {
   "cell_type": "code",
   "execution_count": 43,
   "metadata": {
    "slideshow": {
     "slide_type": "subslide"
    }
   },
   "outputs": [],
   "source": [
    "def costfunction_nn(theta,input_layer_size,hidden_layer_size,num_labels,X,Y,lam):    \n",
    "    theta1=theta[0:(hidden_layer_size*(input_layer_size+1))]\n",
    "    theta2=theta[(hidden_layer_size*(input_layer_size+1)):]\n",
    "    theta1=theta1.reshape(((input_layer_size+1),hidden_layer_size))\n",
    "    theta2=theta2.reshape(((hidden_layer_size+1),num_labels))    \n",
    "    m,n=X.shape\n",
    "    X=np.column_stack((np.ones((m,1)),X))\n",
    "    \n",
    "    z_2=np.dot(X,theta1)\n",
    "    a_2=sigmoid(z_2)\n",
    "    a_2=np.column_stack((np.ones((m,1)),a_2))\n",
    "    z_3=np.dot(a_2,theta2)\n",
    "    a_3=sigmoid(z_3)\n",
    "    J=sum(-Y*np.log(a_3)-(1-Y)*np.log(1-a_3))/m\n",
    "    J=J+lam*(sum(sum(theta1[1:,...]**2))+\n",
    "         sum(sum(theta2[1:,...]**2)))/(2*m)\n",
    "    return J"
   ]
  },
  {
   "cell_type": "code",
   "execution_count": 44,
   "metadata": {
    "slideshow": {
     "slide_type": "subslide"
    }
   },
   "outputs": [],
   "source": [
    "def gradient_nn(theta,input_layer_size,hidden_layer_size,num_labels,X,Y,lam):\n",
    "    \n",
    "    theta1=theta[0:(hidden_layer_size*(input_layer_size+1))]\n",
    "    theta2=theta[(hidden_layer_size*(input_layer_size+1)):]\n",
    "    theta1=theta1.reshape(((input_layer_size+1),hidden_layer_size))\n",
    "    theta2=theta2.reshape(((hidden_layer_size+1),num_labels))    \n",
    "    m,n=X.shape\n",
    "    X=np.column_stack((np.ones((m,1)),X))\n",
    "    \n",
    "    z_2=np.dot(X,theta1)\n",
    "    a_2=sigmoid(z_2)\n",
    "    a_2=np.column_stack((np.ones((m,1)),a_2))\n",
    "    z_3=np.dot(a_2,theta2)\n",
    "    a_3=sigmoid(z_3)\n",
    "    \n",
    "    delta_3=a_3-Y  #Backpropagation\n",
    "    D_2=np.dot(a_2.T,delta_3)\n",
    "    theta2_grad=D_2/m\n",
    "    theta2a=theta2[1:,...]\n",
    "    delta_2=np.dot(delta_3,theta2a.T)*sigmoid_grad(z_2)\n",
    "    D_1=np.dot(X.T,delta_2)\n",
    "    theta1_grad=D_1/m\n",
    "    \n",
    "    theta1_grad=(theta1_grad+np.row_stack((np.zeros((1,theta1.shape[1])),lam*theta1[1:,...]/m)))   \n",
    "    theta2_grad=(theta2_grad+np.row_stack((np.zeros((1,theta2.shape[1])),lam*theta2[1:,...]/m))) \n",
    "    grad=np.append(theta1_grad.flatten(),theta2_grad.flatten())\n",
    "    return grad"
   ]
  },
  {
   "cell_type": "code",
   "execution_count": 45,
   "metadata": {
    "slideshow": {
     "slide_type": "subslide"
    }
   },
   "outputs": [],
   "source": [
    "def predict_nn(theta,X,input_layer_size,hidden_layer_size,cut_off,num_labels):\n",
    "    \n",
    "    theta1=theta[0:(hidden_layer_size*(input_layer_size+1))]\n",
    "    theta2=theta[(hidden_layer_size*(input_layer_size+1)):]\n",
    "    theta1=theta1.reshape(((input_layer_size+1),hidden_layer_size))\n",
    "    theta2=theta2.reshape(((hidden_layer_size+1),num_labels))\n",
    "    \n",
    "    m,n=X.shape\n",
    "    X=np.column_stack((np.ones((m,1)),X))\n",
    "    \n",
    "    z_2=np.dot(X,theta1)\n",
    "    a_2=sigmoid(z_2)\n",
    "    a_2=np.column_stack((np.ones((m,1)),a_2))\n",
    "    z_3=np.dot(a_2,theta2)\n",
    "    a_3=sigmoid(z_3)\n",
    "    \n",
    "    pred=a_3        \n",
    "    return pred"
   ]
  },
  {
   "cell_type": "code",
   "execution_count": 46,
   "metadata": {
    "slideshow": {
     "slide_type": "subslide"
    }
   },
   "outputs": [],
   "source": [
    "input_layer_size=27\n",
    "hidden_layer_size=10\n",
    "num_labels=1\n",
    "lam=1\n",
    "\n",
    "theta1=randinit_weights(input_layer_size,hidden_layer_size)\n",
    "theta2=randinit_weights(hidden_layer_size,num_labels)\n",
    "\n",
    "theta=np.append(theta1.flatten(),theta2.flatten())\n",
    "\n",
    "J=costfunction_nn(theta,input_layer_size,hidden_layer_size,num_labels,X_train,Y_train,lam)\n",
    "\n",
    "grad=gradient_nn(theta,input_layer_size,hidden_layer_size,num_labels,X_train,Y_train,lam)\n",
    "\n",
    "result=op.minimize(fun=costfunction_nn,x0=theta,\n",
    "                   args=(input_layer_size,hidden_layer_size,num_labels,\n",
    "                         X_train,Y_train,lam),method='TNC',jac=gradient_nn,options={'maxiter':10000})\n"
   ]
  },
  {
   "cell_type": "code",
   "execution_count": 47,
   "metadata": {
    "slideshow": {
     "slide_type": "subslide"
    }
   },
   "outputs": [
    {
     "name": "stdout",
     "output_type": "stream",
     "text": [
      "     fun: array([0.50999232])\n",
      "     jac: array([ 1.05771583e-07,  9.76087744e-07, -1.98033792e-06, -5.92817267e-07,\n",
      "       -8.25338099e-07, -3.48855152e-06,  2.30628504e-06,  1.90405849e-06,\n",
      "        6.97620214e-07, -5.51740146e-06, -9.04115260e-08, -5.22746401e-07,\n",
      "        1.83882028e-06,  1.28560751e-07,  1.31074292e-06,  2.26612147e-06,\n",
      "       -1.74516331e-06, -5.77774234e-07,  2.38818625e-07,  4.37467650e-06,\n",
      "        1.61579449e-08,  1.08465278e-07, -1.59254358e-07, -6.93502477e-08,\n",
      "       -1.73284027e-07, -6.67414914e-07,  6.13609805e-08,  3.66381737e-08,\n",
      "        1.40479787e-07, -7.15239189e-07, -5.53798932e-08, -5.44835964e-07,\n",
      "        1.30651634e-06,  2.36212892e-07,  4.90936546e-07,  1.66560340e-06,\n",
      "       -6.24412342e-07, -1.07401386e-06,  4.81456405e-07,  1.93167199e-06,\n",
      "       -3.50334446e-08, -3.84212083e-07,  1.07320485e-06,  2.52003614e-07,\n",
      "        2.27347928e-06,  4.61832453e-06, -2.40310394e-06, -1.28936421e-06,\n",
      "       -1.97229744e-07,  2.48005046e-06,  7.44246185e-08,  6.68477662e-07,\n",
      "       -2.44570966e-06, -1.20804474e-06, -7.83571582e-07, -1.33110217e-05,\n",
      "        1.30298736e-06,  2.28552473e-06,  1.50504489e-06, -1.05389393e-05,\n",
      "       -2.16851139e-08,  3.77016319e-07, -1.60186942e-06, -2.87531235e-07,\n",
      "       -1.06861039e-06, -2.19315995e-06,  1.11548883e-06,  1.47733506e-06,\n",
      "        2.21525339e-07, -4.26478699e-06,  4.21183489e-09,  2.70453749e-07,\n",
      "       -2.13261558e-07, -1.98714181e-07, -3.43471678e-07, -1.63745445e-06,\n",
      "        6.24420653e-07,  3.89893628e-07,  8.87697348e-08, -5.35050503e-07,\n",
      "        4.38505204e-06,  1.44669220e-05, -4.11647888e-05, -1.70717174e-05,\n",
      "        5.00149874e-06, -3.03350352e-05,  4.23802964e-05,  3.85292830e-05,\n",
      "        2.74466822e-05, -1.05490563e-04,  1.46881528e-07, -1.59721122e-07,\n",
      "        5.90371037e-07,  1.36970499e-07,  8.33282915e-08, -2.04538213e-07,\n",
      "        2.76622852e-08,  5.76750678e-07,  6.86180482e-07, -1.71714465e-06,\n",
      "        3.56099040e-06,  3.97776891e-06, -3.21249001e-05, -5.17898183e-06,\n",
      "       -2.44630829e-06, -3.16952379e-05,  9.60971191e-06,  2.09601747e-05,\n",
      "        9.94876788e-06, -3.01080697e-05,  2.18155907e-07,  2.54135518e-07,\n",
      "       -9.11509048e-07, -3.70393167e-07, -3.60017320e-07, -2.14648088e-06,\n",
      "        4.82383642e-07,  1.22679086e-06,  2.04408273e-07, -3.92374156e-06,\n",
      "       -3.15223096e-07, -6.11265346e-07,  2.23697080e-06,  2.07704163e-07,\n",
      "        4.54249243e-07,  3.72951603e-06, -1.25423662e-06, -6.16792955e-07,\n",
      "       -3.63318525e-07,  2.35627252e-06, -3.93441708e-09,  1.40868730e-07,\n",
      "        7.51932342e-07, -1.61584178e-07,  6.37647706e-07, -1.17490287e-06,\n",
      "        1.11693520e-07,  5.95064764e-07,  3.44744321e-07, -1.68948380e-06,\n",
      "        2.97057048e-06,  2.83614972e-05, -1.06794767e-04, -1.97826585e-05,\n",
      "       -2.61981771e-05, -2.37821222e-05,  6.82210917e-05,  2.43556923e-05,\n",
      "        3.45301162e-05, -1.54753226e-04,  6.32158625e-07,  7.22995046e-06,\n",
      "       -1.09003897e-05, -1.20686563e-05,  3.03347264e-05, -1.68408682e-04,\n",
      "        2.83111372e-06,  5.07052954e-05,  3.56118224e-05, -2.16483136e-04,\n",
      "       -2.64478677e-09,  1.17216999e-07, -7.23309619e-07, -9.81942681e-08,\n",
      "       -4.61846305e-08, -4.65413885e-07,  2.27737063e-07, -3.28804779e-07,\n",
      "        1.54458513e-07, -8.24475797e-07,  1.89552335e-07,  1.94724881e-07,\n",
      "       -3.38849644e-07, -1.49809256e-07,  5.87349790e-09, -1.01382644e-06,\n",
      "        4.31755606e-07,  3.27578526e-07,  6.90170018e-08, -1.40024759e-06,\n",
      "        2.38097943e-08,  2.01604393e-07, -1.21074910e-06, -3.80848330e-08,\n",
      "       -6.59670201e-08, -1.98184784e-08,  9.80330594e-08,  7.20931433e-08,\n",
      "       -2.11160116e-08,  6.46792211e-08,  1.09117421e-07,  2.10741571e-07,\n",
      "       -1.21869121e-06, -3.14558060e-07, -6.41337225e-07, -2.18564084e-06,\n",
      "        5.85432785e-07,  6.26076938e-07,  3.45883122e-07, -3.16816425e-06,\n",
      "        6.23950518e-08,  1.12824132e-07,  1.97789832e-07,  2.05144781e-08,\n",
      "        1.17589907e-07,  5.94259436e-07, -1.96576449e-07, -1.53270987e-07,\n",
      "        1.79894721e-07, -1.33739537e-07, -3.53802734e-08,  7.14141547e-08,\n",
      "       -9.00093702e-09, -2.32740817e-08, -1.75163670e-07, -1.62097392e-07,\n",
      "        6.48820783e-08,  2.58977567e-07,  2.71917504e-07, -6.14226212e-07,\n",
      "        1.76836251e-08, -1.22432667e-09, -1.45137770e-07, -1.77599970e-08,\n",
      "       -2.44775171e-08, -3.81430881e-07,  2.44014857e-07,  5.13176895e-08,\n",
      "        8.40700668e-08, -1.18064589e-08,  1.10957446e-07,  2.94196863e-07,\n",
      "       -7.10413421e-07, -3.47146001e-07, -2.09837312e-07, -1.18481409e-06,\n",
      "        1.44604219e-06,  2.24124002e-07,  1.99539537e-07, -1.37980095e-06,\n",
      "        8.85233997e-08,  6.61285460e-08, -8.00983485e-07, -8.85103093e-08,\n",
      "       -1.61780129e-07, -9.53255925e-07,  2.72376083e-07,  2.33527949e-07,\n",
      "        1.36925927e-07, -4.26565284e-07,  2.00800922e-07,  3.39552652e-07,\n",
      "       -1.15584056e-07, -1.87869378e-07, -3.82923042e-07, -1.25018341e-06,\n",
      "        4.07429101e-07,  4.33546644e-07,  2.70233841e-07, -2.91434508e-06,\n",
      "       -1.85184685e-08,  2.18776814e-07, -4.41244645e-07, -2.34610265e-07,\n",
      "       -2.24773451e-07, -9.70628848e-07,  4.20644511e-07,  6.89239279e-07,\n",
      "        3.05979915e-07, -8.90186189e-07,  3.52837466e-08,  1.22232168e-07,\n",
      "        1.39949718e-07, -1.68844321e-07,  2.64779387e-07,  5.49083816e-08,\n",
      "        3.19917257e-08,  1.16296522e-07,  1.56767822e-07,  9.84259822e-08,\n",
      "        9.94797879e-06,  6.24421218e-06,  4.49363830e-06,  4.78335514e-06,\n",
      "        3.74224923e-06, -1.48834586e-08,  3.93825642e-06,  8.40563848e-07,\n",
      "        1.80289283e-06,  3.40450759e-06,  4.74868456e-07])\n",
      " message: 'Converged (|f_n-f_(n-1)| ~= 0)'\n",
      "    nfev: 2854\n",
      "     nit: 218\n",
      "  status: 1\n",
      " success: True\n",
      "       x: array([ 1.38345149e+00,  2.43173170e-01,  1.02287947e+00, -1.67109560e-01,\n",
      "       -5.02487541e-01,  1.72293169e+00, -9.47888940e-01, -2.67217997e+00,\n",
      "        6.75611401e+00,  5.50656174e-01,  1.49469746e-01,  8.71378497e-01,\n",
      "        2.46873763e-01, -6.77036480e-01,  1.37406515e+00,  1.35678027e-01,\n",
      "        1.12228593e+00,  1.10885845e+00, -4.29597008e-01,  6.67748692e-01,\n",
      "        3.86507386e-02,  3.42864738e-01, -1.65145833e+00, -5.52742010e-02,\n",
      "       -5.90122447e-01, -2.18843210e+00,  1.07861113e+00,  7.03222116e-01,\n",
      "        4.56536801e-01, -3.61227360e+00, -7.43840580e-01, -2.23846818e-01,\n",
      "       -5.29589327e-01,  1.22374207e+00, -1.52339273e-02, -6.45131352e-02,\n",
      "       -3.36517365e-01, -2.94038624e-01, -7.15754676e-01, -5.98440808e-01,\n",
      "        2.46937384e-01, -4.21421728e-01, -1.12629578e+00, -4.23899862e-02,\n",
      "        3.41292302e-02,  1.65501137e-02,  5.43174449e-02,  1.50166531e-01,\n",
      "        2.00322613e+00,  1.03928665e+00, -1.61178513e-01,  8.53689769e-02,\n",
      "       -5.03999678e-02, -4.99505462e-01, -1.61916378e-01,  1.74084483e-01,\n",
      "        6.75501399e-02, -3.79943350e-02,  1.39055055e-02, -5.02253590e-02,\n",
      "        6.16364321e-01,  8.51291905e-01, -7.76041484e-02, -3.46010883e-04,\n",
      "        1.12084751e-01,  8.52062147e-01, -5.78677138e-01,  1.25714395e+00,\n",
      "        9.11900974e-02, -2.82031325e-01, -2.84383302e-01, -1.41805799e+00,\n",
      "        8.10879999e-01,  4.20767629e-02, -1.24190965e-01, -2.91305407e-02,\n",
      "        2.91342934e-01, -7.43755591e-02, -1.42926683e-01, -5.96458325e-01,\n",
      "        2.08951815e-02,  1.18842760e-01,  1.87527394e-02,  5.34522005e-02,\n",
      "        1.27853626e-02, -1.12088855e-02, -1.66301639e-02,  1.00092675e-01,\n",
      "       -1.56647334e-01, -1.01946161e-04,  3.67464674e-01,  9.82790660e-01,\n",
      "        6.24148906e-03, -1.03656117e+00, -4.90171354e-01,  2.57147024e-01,\n",
      "       -6.75445807e-02,  2.09033130e-01, -2.67537561e-01, -2.35420647e-02,\n",
      "       -7.63330732e-02,  5.56545702e-02,  1.35112085e-02,  4.38670386e-01,\n",
      "       -1.21054021e-01, -8.50628796e-02, -2.65557976e-02,  1.93708248e-02,\n",
      "       -1.28936102e-01, -2.02497249e-02,  4.16871364e-01, -1.50239830e-01,\n",
      "       -2.86851634e-01, -1.49922068e-01,  9.12991152e-01,  1.11624339e-01,\n",
      "        3.81789544e-01,  2.55693910e-01, -6.33538061e-02, -9.72097380e-03,\n",
      "        7.67398302e-01, -5.70935564e-01,  1.37700471e-01, -4.38855769e-01,\n",
      "       -5.68153003e-01,  6.74485452e-05, -2.54979898e+00, -2.31713470e-01,\n",
      "       -2.89208615e-01, -1.78502191e-01,  8.35624317e-01,  7.52696861e-01,\n",
      "       -7.34372621e-02, -3.39403079e-01,  5.06503253e-01, -2.15992439e-01,\n",
      "        6.20601812e-01, -5.51250391e-01, -3.28172590e-01, -4.75536507e-01,\n",
      "        1.34714482e-03, -9.96724192e-02,  3.98095587e-02, -2.17837117e-01,\n",
      "       -4.71144983e-02, -6.95740136e-03, -1.26468679e-02, -8.64462584e-02,\n",
      "        7.58662405e-02, -5.78733272e-03,  1.27663868e-01,  2.87658734e-02,\n",
      "        3.10952947e-03,  5.97080210e-02, -7.26520036e-03, -1.33588339e-02,\n",
      "       -1.97233454e-02,  1.34327187e-02,  8.37494094e-03,  7.93939743e-03,\n",
      "       -2.75273186e-01,  8.30628862e-01, -2.93803702e-01, -4.05143942e-01,\n",
      "       -3.70015009e-01,  5.27444413e-01, -4.31279826e-01,  4.91910703e-01,\n",
      "        7.31580458e-01, -7.99913289e-01, -9.44712519e-02,  1.45474015e-01,\n",
      "       -9.09158756e-02, -1.92091205e-01, -9.04462601e-01,  5.84849213e-01,\n",
      "       -6.55876231e-01,  1.93530841e-01, -4.09681409e-01,  5.42909887e-02,\n",
      "        7.38068397e-01, -6.75980572e-01, -9.90491238e-01, -4.07448589e-01,\n",
      "        6.25122417e-01, -5.68311737e-01, -4.67184222e-01,  1.77043277e-01,\n",
      "       -1.47926058e-01,  6.00098380e-01,  6.07139734e-01,  7.71627082e-01,\n",
      "       -1.01425044e+00,  4.54906416e-01,  7.03572941e-02, -4.29195291e-01,\n",
      "       -6.89088817e-01,  3.41787929e-01, -1.30211358e-01,  4.89401008e-01,\n",
      "       -3.91546021e-01, -1.08603255e+00, -1.77590599e-01, -4.53098523e-01,\n",
      "        2.12633800e-01, -3.58559664e-01,  4.36546053e-01, -2.81448633e-01,\n",
      "       -5.31369859e-02, -4.80117580e-02, -6.93792146e-01,  7.86947665e-01,\n",
      "        8.54822435e-01, -1.39571554e-01, -5.17078788e-01, -4.34190243e-01,\n",
      "       -5.06551538e-02, -2.26642518e-01, -3.94489438e-01, -2.78626556e-01,\n",
      "        2.33392902e-01,  7.35411643e-02, -3.46370316e-02,  2.01131508e-01,\n",
      "        3.92552138e-01, -5.02529694e-01,  2.16754899e-01,  3.07956989e-01,\n",
      "        1.48257651e-01,  2.38101498e-01,  4.98635603e-01, -6.29388875e-01,\n",
      "       -5.83483379e-01,  1.23883441e+00,  6.34147831e-01, -9.75729544e-02,\n",
      "        1.70482882e-01, -1.13848629e+00,  5.05842556e-01,  3.20826731e-01,\n",
      "       -3.42579864e-01, -2.86910853e-01, -4.74465376e-01,  9.26721000e-01,\n",
      "        4.94081313e-02, -3.61056664e-02, -3.59362147e-01, -9.14495353e-01,\n",
      "       -3.32686038e-01, -1.92486487e-02, -4.29024459e-01,  5.33286516e-01,\n",
      "       -2.90986693e-01,  1.01328497e-01,  9.30388801e-01,  1.02933495e-01,\n",
      "        2.87029602e-01,  5.11079037e-01, -3.66230372e-01, -1.50978764e-02,\n",
      "        1.35434788e+00,  3.42300692e-01,  2.92484931e-01,  2.24372948e-01,\n",
      "       -2.18637649e-01, -2.87521388e-01, -1.49440168e-01, -1.24337676e-01,\n",
      "        4.71194406e-01, -1.18520367e-01,  5.45736845e-01, -4.74706735e-01,\n",
      "       -2.47934825e-01, -2.38680139e-01,  2.57551639e-01, -2.80293370e-01,\n",
      "       -2.59086607e-01, -1.82164649e-01,  3.08959911e-01,  7.40691650e-02,\n",
      "        3.70448639e-01,  1.50322611e+00,  1.27668281e+00, -2.87158094e+00,\n",
      "       -8.45098580e-01, -1.78880439e+00, -3.17281989e+00,  2.60568868e+00,\n",
      "        1.91638559e+00,  1.45026858e+00, -3.87847514e+00])\n"
     ]
    }
   ],
   "source": [
    "print(result)\n",
    "\n",
    "theta_f=result.x"
   ]
  },
  {
   "cell_type": "markdown",
   "metadata": {
    "slideshow": {
     "slide_type": "subslide"
    }
   },
   "source": [
    "### For training set"
   ]
  },
  {
   "cell_type": "code",
   "execution_count": 48,
   "metadata": {
    "slideshow": {
     "slide_type": "-"
    }
   },
   "outputs": [
    {
     "name": "stdout",
     "output_type": "stream",
     "text": [
      "Accuracy under 0.5 is 75.5408550249957\n",
      "AUC is 0.7265149733685119\n"
     ]
    }
   ],
   "source": [
    "pred=predict_nn(theta_f,X_train,input_layer_size,hidden_layer_size,cut_off,num_labels)\n",
    "\n",
    "res=cut_off(pred)\n",
    "\n",
    "print('Accuracy under 0.5 is',np.mean(res==Y_train)*100) \n",
    "print('AUC is',roc_auc_score(Y_train,pred))"
   ]
  },
  {
   "cell_type": "markdown",
   "metadata": {
    "slideshow": {
     "slide_type": "subslide"
    }
   },
   "source": [
    "### For test set"
   ]
  },
  {
   "cell_type": "code",
   "execution_count": 49,
   "metadata": {
    "slideshow": {
     "slide_type": "-"
    }
   },
   "outputs": [
    {
     "name": "stdout",
     "output_type": "stream",
     "text": [
      "Accuracy under 0.5 is 74.72527472527473\n",
      "AUC is 0.7178982105671141\n"
     ]
    }
   ],
   "source": [
    "pred=predict_nn(theta_f,X_test,input_layer_size,hidden_layer_size,cut_off,num_labels)\n",
    "\n",
    "res=cut_off(pred)\n",
    "\n",
    "print('Accuracy under 0.5 is',np.mean(res==Y_test)*100) \n",
    "print('AUC is',roc_auc_score(Y_test,pred))"
   ]
  },
  {
   "cell_type": "markdown",
   "metadata": {
    "slideshow": {
     "slide_type": "slide"
    }
   },
   "source": [
    "###  Conclusion\n",
    "#### Findings of models\n",
    "\n",
    "1. Result of Logistic regression seems good with Accuracy 0.75 and AUC 0.716\n",
    "2. Learning Curve is the shaple of high bias\n",
    "    * Larger training set will not help much\n",
    "    * Try one hidden layer neural network\n",
    "3. Neural network just increase AUC from 0.716 to 0.719\n",
    "    * Still need improvement"
   ]
  },
  {
   "cell_type": "markdown",
   "metadata": {
    "slideshow": {
     "slide_type": "subslide"
    }
   },
   "source": [
    "###  Conclusion\n",
    "#### Findings of machine learning\n",
    "\n",
    "1. Data processing is a really important procedure in application\n",
    "    * Take more time than expected\n",
    "    * Programing language for quick update instead of involving with excel\n",
    "\n",
    "2. Logistic regression is a powerful model\n",
    "    * Quick implement using some stat package\n"
   ]
  },
  {
   "cell_type": "markdown",
   "metadata": {
    "slideshow": {
     "slide_type": "subslide"
    }
   },
   "source": [
    "###  Conclusion\n",
    "#### Future work\n",
    "\n",
    "1. Try getting more features\n",
    "2. Add some polynomial terms\n",
    "3. Add more hidden layers in neural network\n"
   ]
  },
  {
   "cell_type": "markdown",
   "metadata": {
    "slideshow": {
     "slide_type": "slide"
    }
   },
   "source": [
    "# Thanks for watching "
   ]
  },
  {
   "cell_type": "code",
   "execution_count": null,
   "metadata": {
    "slideshow": {
     "slide_type": "skip"
    }
   },
   "outputs": [],
   "source": []
  }
 ],
 "metadata": {
  "celltoolbar": "Slideshow",
  "kernelspec": {
   "display_name": "Python 3",
   "language": "python",
   "name": "python3"
  },
  "language_info": {
   "codemirror_mode": {
    "name": "ipython",
    "version": 3
   },
   "file_extension": ".py",
   "mimetype": "text/x-python",
   "name": "python",
   "nbconvert_exporter": "python",
   "pygments_lexer": "ipython3",
   "version": "3.6.5"
  }
 },
 "nbformat": 4,
 "nbformat_minor": 2
}
